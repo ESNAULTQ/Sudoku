{
  "nbformat": 4,
  "nbformat_minor": 0,
  "metadata": {
    "colab": {
      "provenance": [],
      "authorship_tag": "ABX9TyPCv9osigprsptOTraz0dQe",
      "include_colab_link": true
    },
    "kernelspec": {
      "name": "python3",
      "display_name": "Python 3"
    },
    "language_info": {
      "name": "python"
    }
  },
  "cells": [
    {
      "cell_type": "markdown",
      "metadata": {
        "id": "view-in-github",
        "colab_type": "text"
      },
      "source": [
        "<a href=\"https://colab.research.google.com/github/ESNAULTQ/Sudoku/blob/main/Sudoku.ipynb\" target=\"_parent\"><img src=\"https://colab.research.google.com/assets/colab-badge.svg\" alt=\"Open In Colab\"/></a>"
      ]
    },
    {
      "cell_type": "markdown",
      "source": [],
      "metadata": {
        "id": "eboOU8KiIeym"
      }
    },
    {
      "cell_type": "markdown",
      "source": [
        "PRINTBOARD\n"
      ],
      "metadata": {
        "id": "4ouFjScg5sck"
      }
    },
    {
      "cell_type": "code",
      "source": [
        "\n",
        "\n",
        "def print_board():\n",
        "    grille = [[5, 3, 4, 6, 7, 8, 9, 1, 2],\n",
        "              [6, 7, 2, 1, 9, 5, 3, 4, 8],\n",
        "              [1, 9, 8, 3, 4, 2, 5, 6, 7],\n",
        "              [8, 5, 9, 7, 6, 1, 4, 2, 3],\n",
        "              [4, 2, 6, 8, 5, 3, 7, 9, 1],\n",
        "              [7, 1, 3, 9, 2, 4, 8, 5, 6],\n",
        "              [9, 6, 1, 5, 3, 7, 2, 8, 4],\n",
        "              [2, 8, 7, 4, 1, 9, 6, 3, 5],\n",
        "              [3, 4, 5, 2, 8, 6, 1, 7, 9]]\n",
        "\n",
        "    indice_alphabetique = 'abcdefghi'\n",
        "\n",
        "    print(\"    1 2 3   4 5 6   7 8 9 \")\n",
        "    for indice_ligne, newligne in enumerate(grille):\n",
        "        if indice_ligne % 3 == 0:\n",
        "            print(\" \", (\"+\" + \"-\" * 7) * 3 + \"+\")\n",
        "        print(indice_alphabetique[indice_ligne], end=\" \")\n",
        "        for indice_col in range(len(newligne)):\n",
        "            if indice_col % 3 == 0:\n",
        "                print('|', end=\" \")\n",
        "            print(newligne[indice_col], end=\" \")\n",
        "        print('|')\n",
        "    print(\" \", (\"+\" + \"-\" * 7) * 3 + \"+\")\n",
        "    print()\n",
        "\n",
        "print_board()  # Appel de la fonction sans print()\n"
      ],
      "metadata": {
        "id": "nHx9nFtrLrUF",
        "colab": {
          "base_uri": "https://localhost:8080/"
        },
        "outputId": "197e90ca-4ef4-4b69-9765-940d179a902b"
      },
      "execution_count": null,
      "outputs": [
        {
          "output_type": "stream",
          "name": "stdout",
          "text": [
            "    1 2 3   4 5 6   7 8 9 \n",
            "  +-------+-------+-------+\n",
            "a | 5 3 4 | 6 7 8 | 9 1 2 |\n",
            "b | 6 7 2 | 1 9 5 | 3 4 8 |\n",
            "c | 1 9 8 | 3 4 2 | 5 6 7 |\n",
            "  +-------+-------+-------+\n",
            "d | 8 5 9 | 7 6 1 | 4 2 3 |\n",
            "e | 4 2 6 | 8 5 3 | 7 9 1 |\n",
            "f | 7 1 3 | 9 2 4 | 8 5 6 |\n",
            "  +-------+-------+-------+\n",
            "g | 9 6 1 | 5 3 7 | 2 8 4 |\n",
            "h | 2 8 7 | 4 1 9 | 6 3 5 |\n",
            "i | 3 4 5 | 2 8 6 | 1 7 9 |\n",
            "  +-------+-------+-------+\n",
            "\n"
          ]
        }
      ]
    },
    {
      "cell_type": "markdown",
      "source": [
        "GENERATOR"
      ],
      "metadata": {
        "id": "UuczABJ550v2"
      }
    },
    {
      "cell_type": "markdown",
      "source": [
        "SOLVER\n"
      ],
      "metadata": {
        "id": "Ogr9ZQJ56G-d"
      }
    },
    {
      "cell_type": "markdown",
      "source": [
        "CHECKER\n"
      ],
      "metadata": {
        "id": "VCTnA5FnUzQg"
      }
    },
    {
      "cell_type": "markdown",
      "source": [
        "RASSEMBLEMENT"
      ],
      "metadata": {
        "id": "jU3Qyine6PcJ"
      }
    },
    {
      "cell_type": "code",
      "source": [
        "!pip install dokusan\n",
        "from dokusan import generators\n",
        "import numpy as np"
      ],
      "metadata": {
        "colab": {
          "base_uri": "https://localhost:8080/"
        },
        "id": "zwbBwcQw_dCF",
        "outputId": "511868cc-632a-40fb-9ff0-c0f0da9029bd"
      },
      "execution_count": 4,
      "outputs": [
        {
          "output_type": "stream",
          "name": "stdout",
          "text": [
            "Requirement already satisfied: dokusan in /usr/local/lib/python3.10/dist-packages (0.1.0)\n"
          ]
        }
      ]
    },
    {
      "cell_type": "code",
      "source": [
        "grille_ligne_fausse = [[5, 3, 4, 6, 7, 8, 9, 1, 2],\n",
        "                       [6, 7, 2, 1, 9, 5, 3, 4, 8],  # Erreur: 0 à la place de 5\n",
        "                       [1, 9, 8, 3, 4, 2, 5, 6, 7],\n",
        "                      [8, 5, 9, 7, 6, 1, 4, 2, 3],\n",
        "                      [4, 2, 6, 8, 5, 3, 7, 9, 1],\n",
        "                      [7, 1, 3, 9, 2, 4, 8, 5, 6],\n",
        "                      [9, 6, 1, 5, 3, 7, 2, 8, 4],\n",
        "                      [2, 8, 7, 4, 1, 9, 6, 3, 5],\n",
        "                      [3, 4, 5, 2, 8, 6, 1, 7, 9]]\n",
        "\n",
        "grille_colonne_fausse = [[5, 3, 4, 6, 7, 8, 9, 1, 2],\n",
        "                        [6, 7, 2, 1, 9, 5, 3, 4, 8],\n",
        "                        [1, 9, 8, 3, 4, 2, 5, 6, 7],\n",
        "                        [8, 5, 9, 7, 6, 1, 4, 2, 3],\n",
        "                        [4, 2, 6, 8, 5, 3, 7, 9, 1],\n",
        "                        [7, 1, 3, 9, 2, 4, 8, 5, 6],\n",
        "                        [9, 6, 1, 5, 3, 7, 2, 8, 4],\n",
        "                        [2, 8, 7, 4, 1, 9, 6, 3, 5],\n",
        "                        [3, 4, 5, 2, 8, 6, 1, 7, 9]]  # Erreur: 0 à la place de 4\n",
        "\n",
        "\n",
        "grille_carre_faux = [[5, 3, 4, 6, 7, 8, 9, 1, 2],\n",
        "                     [6, 7, 2, 1, 9, 5, 3, 4, 8],\n",
        "                     [1, 9, 8, 3, 4, 2, 5, 6, 7],\n",
        "                     [8, 5, 9, 7, 6, 1, 4, 2, 3],\n",
        "                     [4, 2, 6, 8, 5, 3, 7, 9, 1],\n",
        "                     [7, 1, 3, 9, 2, 4, 8, 5, 6],\n",
        "                     [9, 6, 1, 5, 3, 7, 2, 8, 4],\n",
        "                     [2, 8, 7, 4, 1, 9, 6, 3, 5],\n",
        "                     [3, 4, 5, 2, 8, 6, 1, 7, 0]]  # Erreur: 0 à la place de 9"
      ],
      "metadata": {
        "id": "txdDGHuVIv8L"
      },
      "execution_count": 54,
      "outputs": []
    },
    {
      "cell_type": "code",
      "source": [
        "rankstr = input(\"Veuillez-choisir une difficulté allant de 100 à 750:    \")\n",
        "rank = int(rankstr)\n",
        "\n",
        "def random_grid():\n",
        "    arr = np.array(list(str(generators.random_sudoku(avg_rank=rank))))\n",
        "    gridsavestr = arr.reshape(9, 9).tolist()\n",
        "    gridsaveint = [[int(x) for x in ligne] for ligne in gridsavestr]\n",
        "    return gridsaveint\n",
        "\n",
        "GrilleAleatoire = random_grid()\n",
        "GrilleAleatoire\n",
        "\n",
        "print(\"Grille aléatoire générée : \")\n",
        "print(np.matrix(GrilleAleatoire))\n",
        "\n",
        "GrilleAleatoiree = [[0, 0, 0, 1, 0, 8, 0, 0, 0],\n",
        "                    [8, 1, 0, 3, 0, 0, 4, 0, 7],\n",
        "                    [4, 0, 0, 0, 5, 0, 0, 1, 3],\n",
        "                    [0, 2, 3, 7, 8, 0, 0, 0, 0],\n",
        "                    [0, 0, 4, 5, 6, 0, 3, 7, 0],\n",
        "                    [0, 7, 6, 0, 0, 0, 0, 0, 0],\n",
        "                    [2, 0, 0, 6, 0, 4, 0, 3, 5],\n",
        "                    [0, 3, 1, 0, 7, 0, 9, 0, 4],\n",
        "                    [0, 0, 0, 9, 0, 0, 0, 8, 0]]\n",
        "\n"
      ],
      "metadata": {
        "id": "-9auGMG26OWS",
        "colab": {
          "base_uri": "https://localhost:8080/"
        },
        "outputId": "e5436e85-c673-49fb-fb73-a196fdbc08f4"
      },
      "execution_count": 24,
      "outputs": [
        {
          "output_type": "stream",
          "name": "stdout",
          "text": [
            "Veuillez-choisir une difficulté allant de 100 à 750:    500\n",
            "Grille aléatoire générée : \n",
            "[[0 3 0 9 0 0 0 0 5]\n",
            " [6 0 0 0 8 0 0 0 0]\n",
            " [8 5 9 0 0 7 0 2 0]\n",
            " [0 0 0 0 0 0 0 7 6]\n",
            " [0 0 0 5 0 6 0 0 0]\n",
            " [5 0 7 0 1 3 0 9 0]\n",
            " [0 1 0 6 3 4 0 0 9]\n",
            " [0 0 0 0 0 0 0 6 0]\n",
            " [0 0 0 8 0 0 0 1 3]]\n"
          ]
        }
      ]
    },
    {
      "cell_type": "code",
      "source": [
        "def possibilite(row, column, number):\n",
        "    global GrilleAleatoire\n",
        "\n",
        "    for i in range(0,9):\n",
        "        if GrilleAleatoire[row][i] == number:\n",
        "            return False\n",
        "\n",
        "    for i in range(0,9):\n",
        "        if GrilleAleatoire[i][column] == number:\n",
        "            return False\n",
        "\n",
        "    x0 = (column // 3) * 3\n",
        "    y0 = (row // 3) * 3\n",
        "    for i in range(0,3):\n",
        "        for j in range(0,3):\n",
        "            if GrilleAleatoire[y0+i][x0+j] == number:\n",
        "                return False\n",
        "    return True\n",
        "\n"
      ],
      "metadata": {
        "id": "MbHGmaqi70nM"
      },
      "execution_count": 25,
      "outputs": []
    },
    {
      "cell_type": "code",
      "source": [
        "GrilleComplet = None\n",
        "def resoudre():\n",
        "    global GrilleAleatoire, GrilleComplet\n",
        "    for row in range(0,9):\n",
        "        for column in range(0,9):\n",
        "            if GrilleAleatoire[row][column] == 0:\n",
        "                for number in range(1,10):\n",
        "                    if possibilite(row, column, number):\n",
        "                        GrilleAleatoire[row][column] = number\n",
        "                        resoudre()\n",
        "                        GrilleAleatoire[row][column] = 0\n",
        "                return\n",
        "    GrilleComplet = np.matrix(GrilleAleatoire)\n",
        "    print(GrilleComplet)\n",
        "    input('Press enter for more solutions')\n",
        "resoudre()\n",
        "\n"
      ],
      "metadata": {
        "colab": {
          "base_uri": "https://localhost:8080/"
        },
        "id": "mBZgwvGc8q6S",
        "outputId": "4c903696-7f55-4fb9-e566-d1e56b2d6378"
      },
      "execution_count": 26,
      "outputs": [
        {
          "name": "stdout",
          "output_type": "stream",
          "text": [
            "[[7 3 1 9 4 2 6 8 5]\n",
            " [6 2 4 1 8 5 9 3 7]\n",
            " [8 5 9 3 6 7 1 2 4]\n",
            " [1 4 3 2 9 8 5 7 6]\n",
            " [9 8 2 5 7 6 3 4 1]\n",
            " [5 6 7 4 1 3 8 9 2]\n",
            " [2 1 8 6 3 4 7 5 9]\n",
            " [3 9 5 7 2 1 4 6 8]\n",
            " [4 7 6 8 5 9 2 1 3]]\n",
            "Press enter for more solutions\n"
          ]
        }
      ]
    },
    {
      "cell_type": "code",
      "source": [
        "GrilleComplete = GrilleComplet.tolist()\n",
        "GrilleComplete"
      ],
      "metadata": {
        "colab": {
          "base_uri": "https://localhost:8080/"
        },
        "id": "ZawYdNn7Go54",
        "outputId": "2be1362d-ae9a-4534-f09a-9e16f3cdf0ea"
      },
      "execution_count": 27,
      "outputs": [
        {
          "output_type": "execute_result",
          "data": {
            "text/plain": [
              "[[7, 3, 1, 9, 4, 2, 6, 8, 5],\n",
              " [6, 2, 4, 1, 8, 5, 9, 3, 7],\n",
              " [8, 5, 9, 3, 6, 7, 1, 2, 4],\n",
              " [1, 4, 3, 2, 9, 8, 5, 7, 6],\n",
              " [9, 8, 2, 5, 7, 6, 3, 4, 1],\n",
              " [5, 6, 7, 4, 1, 3, 8, 9, 2],\n",
              " [2, 1, 8, 6, 3, 4, 7, 5, 9],\n",
              " [3, 9, 5, 7, 2, 1, 4, 6, 8],\n",
              " [4, 7, 6, 8, 5, 9, 2, 1, 3]]"
            ]
          },
          "metadata": {},
          "execution_count": 27
        }
      ]
    },
    {
      "cell_type": "code",
      "source": [
        "def check_sudoku(grille):\n",
        "  for ligne in grille:\n",
        "    if not len(set(ligne)) == 9:\n",
        "      return False\n",
        "    if 0 in ligne:\n",
        "            return False\n",
        "  for i in range(9):\n",
        "    colonne = []\n",
        "    for j in range(9):\n",
        "      colonne.append(grille[j][i])\n",
        "    if not len(set(colonne)) == 9:\n",
        "      return False\n",
        "    if 0 in colonne:\n",
        "            return False\n",
        "\n",
        "  for y0 in [0, 3, 6]:\n",
        "   for x0 in [0, 3, 6]:\n",
        "    grille2 = []\n",
        "    for i in range(0,3):\n",
        "        for j in range(0,3):\n",
        "          if grille[y0+i][x0+j] in grille2:\n",
        "             return False\n",
        "             grille2.append(grille[y0+i][x0+j])\n",
        "          if grille[y0+i][x0+j] == 0:\n",
        "                        return False\n",
        "\n",
        "  return True\n",
        "\n",
        "print(check_sudoku(GrilleComplet))\n"
      ],
      "metadata": {
        "id": "gjknnTog83GN",
        "colab": {
          "base_uri": "https://localhost:8080/"
        },
        "outputId": "cdec3ed3-caa1-4344-9d4d-27baea60452c"
      },
      "execution_count": 53,
      "outputs": [
        {
          "output_type": "stream",
          "name": "stdout",
          "text": [
            "False\n"
          ]
        }
      ]
    },
    {
      "cell_type": "code",
      "source": [],
      "metadata": {
        "id": "Xcd-MGZ3IT6c"
      },
      "execution_count": 36,
      "outputs": []
    }
  ]
}